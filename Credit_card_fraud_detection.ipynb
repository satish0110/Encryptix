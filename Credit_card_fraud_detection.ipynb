{
  "metadata": {
    "kernelspec": {
      "language": "python",
      "display_name": "Python 3",
      "name": "python3"
    },
    "language_info": {
      "name": "python",
      "version": "3.10.14",
      "mimetype": "text/x-python",
      "codemirror_mode": {
        "name": "ipython",
        "version": 3
      },
      "pygments_lexer": "ipython3",
      "nbconvert_exporter": "python",
      "file_extension": ".py"
    },
    "kaggle": {
      "accelerator": "none",
      "dataSources": [
        {
          "sourceId": 23498,
          "sourceType": "datasetVersion",
          "datasetId": 310
        }
      ],
      "dockerImageVersionId": 30761,
      "isInternetEnabled": false,
      "language": "python",
      "sourceType": "notebook",
      "isGpuEnabled": false
    },
    "colab": {
      "name": "Credit card fraud detection",
      "provenance": [],
      "include_colab_link": true
    }
  },
  "nbformat_minor": 0,
  "nbformat": 4,
  "cells": [
    {
      "cell_type": "markdown",
      "metadata": {
        "id": "view-in-github",
        "colab_type": "text"
      },
      "source": [
        "<a href=\"https://colab.research.google.com/github/satish0110/Encryptix/blob/main/Credit_card_fraud_detection.ipynb\" target=\"_parent\"><img src=\"https://colab.research.google.com/assets/colab-badge.svg\" alt=\"Open In Colab\"/></a>"
      ]
    },
    {
      "source": [
        "\n",
        "# IMPORTANT: RUN THIS CELL IN ORDER TO IMPORT YOUR KAGGLE DATA SOURCES\n",
        "# TO THE CORRECT LOCATION (/kaggle/input) IN YOUR NOTEBOOK,\n",
        "# THEN FEEL FREE TO DELETE THIS CELL.\n",
        "# NOTE: THIS NOTEBOOK ENVIRONMENT DIFFERS FROM KAGGLE'S PYTHON\n",
        "# ENVIRONMENT SO THERE MAY BE MISSING LIBRARIES USED BY YOUR\n",
        "# NOTEBOOK.\n",
        "\n",
        "import os\n",
        "import sys\n",
        "from tempfile import NamedTemporaryFile\n",
        "from urllib.request import urlopen\n",
        "from urllib.parse import unquote, urlparse\n",
        "from urllib.error import HTTPError\n",
        "from zipfile import ZipFile\n",
        "import tarfile\n",
        "import shutil\n",
        "\n",
        "CHUNK_SIZE = 40960\n",
        "DATA_SOURCE_MAPPING = 'creditcardfraud:https%3A%2F%2Fstorage.googleapis.com%2Fkaggle-data-sets%2F310%2F23498%2Fbundle%2Farchive.zip%3FX-Goog-Algorithm%3DGOOG4-RSA-SHA256%26X-Goog-Credential%3Dgcp-kaggle-com%2540kaggle-161607.iam.gserviceaccount.com%252F20240831%252Fauto%252Fstorage%252Fgoog4_request%26X-Goog-Date%3D20240831T052338Z%26X-Goog-Expires%3D259200%26X-Goog-SignedHeaders%3Dhost%26X-Goog-Signature%3Daf809113f827ba54ad5fc916c7ae9e142ef4d44789cd2d91380c76fe114390a367d809c5e4583646a942ecb48a4b4792c4cf5325acdd76cabc3fc9e5b8114fa3b18916136ab59c7730b987ed03e6f2a225945e79cb244a7f891c0c628e112cfcb7a53bf7ed33c6dc4b8305126b2bbadd1232605696e50736941b07f18df47048f7d054ac9918466713bdf3ff5985e0d9d0fe28e181762edb4632821bd93509809b628422c431041a8b0e3584d5196ee60e62a99ae9dfc65a193390e246b1a196703dcc6171ae277ab9f4b3795e2b21057f435c785a228c5b342513ddeaa70843e3a19a081127a674f1bab4d5b687d5730f75a1d9c2f8818704e67a1170a7099d'\n",
        "\n",
        "KAGGLE_INPUT_PATH='/kaggle/input'\n",
        "KAGGLE_WORKING_PATH='/kaggle/working'\n",
        "KAGGLE_SYMLINK='kaggle'\n",
        "\n",
        "!umount /kaggle/input/ 2> /dev/null\n",
        "shutil.rmtree('/kaggle/input', ignore_errors=True)\n",
        "os.makedirs(KAGGLE_INPUT_PATH, 0o777, exist_ok=True)\n",
        "os.makedirs(KAGGLE_WORKING_PATH, 0o777, exist_ok=True)\n",
        "\n",
        "try:\n",
        "  os.symlink(KAGGLE_INPUT_PATH, os.path.join(\"..\", 'input'), target_is_directory=True)\n",
        "except FileExistsError:\n",
        "  pass\n",
        "try:\n",
        "  os.symlink(KAGGLE_WORKING_PATH, os.path.join(\"..\", 'working'), target_is_directory=True)\n",
        "except FileExistsError:\n",
        "  pass\n",
        "\n",
        "for data_source_mapping in DATA_SOURCE_MAPPING.split(','):\n",
        "    directory, download_url_encoded = data_source_mapping.split(':')\n",
        "    download_url = unquote(download_url_encoded)\n",
        "    filename = urlparse(download_url).path\n",
        "    destination_path = os.path.join(KAGGLE_INPUT_PATH, directory)\n",
        "    try:\n",
        "        with urlopen(download_url) as fileres, NamedTemporaryFile() as tfile:\n",
        "            total_length = fileres.headers['content-length']\n",
        "            print(f'Downloading {directory}, {total_length} bytes compressed')\n",
        "            dl = 0\n",
        "            data = fileres.read(CHUNK_SIZE)\n",
        "            while len(data) > 0:\n",
        "                dl += len(data)\n",
        "                tfile.write(data)\n",
        "                done = int(50 * dl / int(total_length))\n",
        "                sys.stdout.write(f\"\\r[{'=' * done}{' ' * (50-done)}] {dl} bytes downloaded\")\n",
        "                sys.stdout.flush()\n",
        "                data = fileres.read(CHUNK_SIZE)\n",
        "            if filename.endswith('.zip'):\n",
        "              with ZipFile(tfile) as zfile:\n",
        "                zfile.extractall(destination_path)\n",
        "            else:\n",
        "              with tarfile.open(tfile.name) as tarfile:\n",
        "                tarfile.extractall(destination_path)\n",
        "            print(f'\\nDownloaded and uncompressed: {directory}')\n",
        "    except HTTPError as e:\n",
        "        print(f'Failed to load (likely expired) {download_url} to path {destination_path}')\n",
        "        continue\n",
        "    except OSError as e:\n",
        "        print(f'Failed to load {download_url} to path {destination_path}')\n",
        "        continue\n",
        "\n",
        "print('Data source import complete.')\n"
      ],
      "metadata": {
        "id": "DY_zrE4h46V7"
      },
      "cell_type": "code",
      "outputs": [],
      "execution_count": null
    },
    {
      "cell_type": "code",
      "source": [
        "\n",
        "import numpy as ny\n",
        "import pandas as ps\n",
        "from sklearn.model_selection import train_test_split\n",
        "from sklearn.linear_model import LogisticRegression\n",
        "from sklearn.metrics import accuracy_score\n",
        "\n",
        "import os\n",
        "for dirname, _, filenames in os.walk('/kaggle/input'):\n",
        "    for filename in filenames:\n",
        "        print(os.path.join(dirname, filename))\n",
        "\n",
        "# You can write up to 20GB to the current directory (/kaggle/working/) that gets preserved as output when you create a version using \"Save & Run All\"\n",
        "# You can also write temporary files to /kaggle/temp/, but they won't be saved outside of the current session"
      ],
      "metadata": {
        "execution": {
          "iopub.status.busy": "2024-08-31T05:11:32.451064Z",
          "iopub.execute_input": "2024-08-31T05:11:32.451494Z",
          "iopub.status.idle": "2024-08-31T05:11:34.515779Z",
          "shell.execute_reply.started": "2024-08-31T05:11:32.451449Z",
          "shell.execute_reply": "2024-08-31T05:11:34.514471Z"
        },
        "trusted": true,
        "id": "TunUfSdA46WE",
        "outputId": "c14d00b0-0fff-4ff5-8787-849c27bb28be"
      },
      "execution_count": null,
      "outputs": [
        {
          "name": "stdout",
          "text": "/kaggle/input/creditcardfraud/creditcard.csv\n",
          "output_type": "stream"
        }
      ]
    },
    {
      "cell_type": "code",
      "source": [
        "dt =ps.read_csv(\"/kaggle/input/creditcardfraud/creditcard.csv\")"
      ],
      "metadata": {
        "execution": {
          "iopub.status.busy": "2024-08-31T05:11:46.750882Z",
          "iopub.execute_input": "2024-08-31T05:11:46.751303Z",
          "iopub.status.idle": "2024-08-31T05:11:50.744026Z",
          "shell.execute_reply.started": "2024-08-31T05:11:46.751262Z",
          "shell.execute_reply": "2024-08-31T05:11:50.742864Z"
        },
        "trusted": true,
        "id": "ozJS3vM_46WG"
      },
      "execution_count": null,
      "outputs": []
    },
    {
      "cell_type": "code",
      "source": [
        "dt.head()"
      ],
      "metadata": {
        "execution": {
          "iopub.status.busy": "2024-08-31T05:11:58.9676Z",
          "iopub.execute_input": "2024-08-31T05:11:58.968527Z",
          "iopub.status.idle": "2024-08-31T05:11:59.018128Z",
          "shell.execute_reply.started": "2024-08-31T05:11:58.968475Z",
          "shell.execute_reply": "2024-08-31T05:11:59.016829Z"
        },
        "trusted": true,
        "id": "2kzXqXeI46WH",
        "outputId": "4b240f76-675c-4da8-81f5-7d215c09c765"
      },
      "execution_count": null,
      "outputs": [
        {
          "execution_count": 4,
          "output_type": "execute_result",
          "data": {
            "text/plain": "   Time        V1        V2        V3        V4        V5        V6        V7  \\\n0   0.0 -1.359807 -0.072781  2.536347  1.378155 -0.338321  0.462388  0.239599   \n1   0.0  1.191857  0.266151  0.166480  0.448154  0.060018 -0.082361 -0.078803   \n2   1.0 -1.358354 -1.340163  1.773209  0.379780 -0.503198  1.800499  0.791461   \n3   1.0 -0.966272 -0.185226  1.792993 -0.863291 -0.010309  1.247203  0.237609   \n4   2.0 -1.158233  0.877737  1.548718  0.403034 -0.407193  0.095921  0.592941   \n\n         V8        V9  ...       V21       V22       V23       V24       V25  \\\n0  0.098698  0.363787  ... -0.018307  0.277838 -0.110474  0.066928  0.128539   \n1  0.085102 -0.255425  ... -0.225775 -0.638672  0.101288 -0.339846  0.167170   \n2  0.247676 -1.514654  ...  0.247998  0.771679  0.909412 -0.689281 -0.327642   \n3  0.377436 -1.387024  ... -0.108300  0.005274 -0.190321 -1.175575  0.647376   \n4 -0.270533  0.817739  ... -0.009431  0.798278 -0.137458  0.141267 -0.206010   \n\n        V26       V27       V28  Amount  Class  \n0 -0.189115  0.133558 -0.021053  149.62      0  \n1  0.125895 -0.008983  0.014724    2.69      0  \n2 -0.139097 -0.055353 -0.059752  378.66      0  \n3 -0.221929  0.062723  0.061458  123.50      0  \n4  0.502292  0.219422  0.215153   69.99      0  \n\n[5 rows x 31 columns]",
            "text/html": "<div>\n<style scoped>\n    .dataframe tbody tr th:only-of-type {\n        vertical-align: middle;\n    }\n\n    .dataframe tbody tr th {\n        vertical-align: top;\n    }\n\n    .dataframe thead th {\n        text-align: right;\n    }\n</style>\n<table border=\"1\" class=\"dataframe\">\n  <thead>\n    <tr style=\"text-align: right;\">\n      <th></th>\n      <th>Time</th>\n      <th>V1</th>\n      <th>V2</th>\n      <th>V3</th>\n      <th>V4</th>\n      <th>V5</th>\n      <th>V6</th>\n      <th>V7</th>\n      <th>V8</th>\n      <th>V9</th>\n      <th>...</th>\n      <th>V21</th>\n      <th>V22</th>\n      <th>V23</th>\n      <th>V24</th>\n      <th>V25</th>\n      <th>V26</th>\n      <th>V27</th>\n      <th>V28</th>\n      <th>Amount</th>\n      <th>Class</th>\n    </tr>\n  </thead>\n  <tbody>\n    <tr>\n      <th>0</th>\n      <td>0.0</td>\n      <td>-1.359807</td>\n      <td>-0.072781</td>\n      <td>2.536347</td>\n      <td>1.378155</td>\n      <td>-0.338321</td>\n      <td>0.462388</td>\n      <td>0.239599</td>\n      <td>0.098698</td>\n      <td>0.363787</td>\n      <td>...</td>\n      <td>-0.018307</td>\n      <td>0.277838</td>\n      <td>-0.110474</td>\n      <td>0.066928</td>\n      <td>0.128539</td>\n      <td>-0.189115</td>\n      <td>0.133558</td>\n      <td>-0.021053</td>\n      <td>149.62</td>\n      <td>0</td>\n    </tr>\n    <tr>\n      <th>1</th>\n      <td>0.0</td>\n      <td>1.191857</td>\n      <td>0.266151</td>\n      <td>0.166480</td>\n      <td>0.448154</td>\n      <td>0.060018</td>\n      <td>-0.082361</td>\n      <td>-0.078803</td>\n      <td>0.085102</td>\n      <td>-0.255425</td>\n      <td>...</td>\n      <td>-0.225775</td>\n      <td>-0.638672</td>\n      <td>0.101288</td>\n      <td>-0.339846</td>\n      <td>0.167170</td>\n      <td>0.125895</td>\n      <td>-0.008983</td>\n      <td>0.014724</td>\n      <td>2.69</td>\n      <td>0</td>\n    </tr>\n    <tr>\n      <th>2</th>\n      <td>1.0</td>\n      <td>-1.358354</td>\n      <td>-1.340163</td>\n      <td>1.773209</td>\n      <td>0.379780</td>\n      <td>-0.503198</td>\n      <td>1.800499</td>\n      <td>0.791461</td>\n      <td>0.247676</td>\n      <td>-1.514654</td>\n      <td>...</td>\n      <td>0.247998</td>\n      <td>0.771679</td>\n      <td>0.909412</td>\n      <td>-0.689281</td>\n      <td>-0.327642</td>\n      <td>-0.139097</td>\n      <td>-0.055353</td>\n      <td>-0.059752</td>\n      <td>378.66</td>\n      <td>0</td>\n    </tr>\n    <tr>\n      <th>3</th>\n      <td>1.0</td>\n      <td>-0.966272</td>\n      <td>-0.185226</td>\n      <td>1.792993</td>\n      <td>-0.863291</td>\n      <td>-0.010309</td>\n      <td>1.247203</td>\n      <td>0.237609</td>\n      <td>0.377436</td>\n      <td>-1.387024</td>\n      <td>...</td>\n      <td>-0.108300</td>\n      <td>0.005274</td>\n      <td>-0.190321</td>\n      <td>-1.175575</td>\n      <td>0.647376</td>\n      <td>-0.221929</td>\n      <td>0.062723</td>\n      <td>0.061458</td>\n      <td>123.50</td>\n      <td>0</td>\n    </tr>\n    <tr>\n      <th>4</th>\n      <td>2.0</td>\n      <td>-1.158233</td>\n      <td>0.877737</td>\n      <td>1.548718</td>\n      <td>0.403034</td>\n      <td>-0.407193</td>\n      <td>0.095921</td>\n      <td>0.592941</td>\n      <td>-0.270533</td>\n      <td>0.817739</td>\n      <td>...</td>\n      <td>-0.009431</td>\n      <td>0.798278</td>\n      <td>-0.137458</td>\n      <td>0.141267</td>\n      <td>-0.206010</td>\n      <td>0.502292</td>\n      <td>0.219422</td>\n      <td>0.215153</td>\n      <td>69.99</td>\n      <td>0</td>\n    </tr>\n  </tbody>\n</table>\n<p>5 rows × 31 columns</p>\n</div>"
          },
          "metadata": {}
        }
      ]
    },
    {
      "cell_type": "code",
      "source": [
        "dt.info()"
      ],
      "metadata": {
        "execution": {
          "iopub.status.busy": "2024-08-31T05:12:05.133489Z",
          "iopub.execute_input": "2024-08-31T05:12:05.133995Z",
          "iopub.status.idle": "2024-08-31T05:12:05.176574Z",
          "shell.execute_reply.started": "2024-08-31T05:12:05.133945Z",
          "shell.execute_reply": "2024-08-31T05:12:05.175405Z"
        },
        "trusted": true,
        "id": "C_7StkE546WI",
        "outputId": "40dc1602-f730-4dbf-f42a-e63913c3b4be"
      },
      "execution_count": null,
      "outputs": [
        {
          "name": "stdout",
          "text": "<class 'pandas.core.frame.DataFrame'>\nRangeIndex: 284807 entries, 0 to 284806\nData columns (total 31 columns):\n #   Column  Non-Null Count   Dtype  \n---  ------  --------------   -----  \n 0   Time    284807 non-null  float64\n 1   V1      284807 non-null  float64\n 2   V2      284807 non-null  float64\n 3   V3      284807 non-null  float64\n 4   V4      284807 non-null  float64\n 5   V5      284807 non-null  float64\n 6   V6      284807 non-null  float64\n 7   V7      284807 non-null  float64\n 8   V8      284807 non-null  float64\n 9   V9      284807 non-null  float64\n 10  V10     284807 non-null  float64\n 11  V11     284807 non-null  float64\n 12  V12     284807 non-null  float64\n 13  V13     284807 non-null  float64\n 14  V14     284807 non-null  float64\n 15  V15     284807 non-null  float64\n 16  V16     284807 non-null  float64\n 17  V17     284807 non-null  float64\n 18  V18     284807 non-null  float64\n 19  V19     284807 non-null  float64\n 20  V20     284807 non-null  float64\n 21  V21     284807 non-null  float64\n 22  V22     284807 non-null  float64\n 23  V23     284807 non-null  float64\n 24  V24     284807 non-null  float64\n 25  V25     284807 non-null  float64\n 26  V26     284807 non-null  float64\n 27  V27     284807 non-null  float64\n 28  V28     284807 non-null  float64\n 29  Amount  284807 non-null  float64\n 30  Class   284807 non-null  int64  \ndtypes: float64(30), int64(1)\nmemory usage: 67.4 MB\n",
          "output_type": "stream"
        }
      ]
    },
    {
      "cell_type": "code",
      "source": [
        "dt.columns"
      ],
      "metadata": {
        "execution": {
          "iopub.status.busy": "2024-08-31T05:12:11.873234Z",
          "iopub.execute_input": "2024-08-31T05:12:11.873673Z",
          "iopub.status.idle": "2024-08-31T05:12:11.883609Z",
          "shell.execute_reply.started": "2024-08-31T05:12:11.873633Z",
          "shell.execute_reply": "2024-08-31T05:12:11.882023Z"
        },
        "trusted": true,
        "id": "RFwAjFxt46WJ",
        "outputId": "2f1da1df-14b8-4a65-e171-442ae7e21576"
      },
      "execution_count": null,
      "outputs": [
        {
          "execution_count": 6,
          "output_type": "execute_result",
          "data": {
            "text/plain": "Index(['Time', 'V1', 'V2', 'V3', 'V4', 'V5', 'V6', 'V7', 'V8', 'V9', 'V10',\n       'V11', 'V12', 'V13', 'V14', 'V15', 'V16', 'V17', 'V18', 'V19', 'V20',\n       'V21', 'V22', 'V23', 'V24', 'V25', 'V26', 'V27', 'V28', 'Amount',\n       'Class'],\n      dtype='object')"
          },
          "metadata": {}
        }
      ]
    },
    {
      "cell_type": "markdown",
      "source": [
        "1= Fraud ,\n",
        "0= normal transaction"
      ],
      "metadata": {
        "id": "jIf4qgcP46WJ"
      }
    },
    {
      "cell_type": "code",
      "source": [
        "dt[\"Class\"].value_counts()"
      ],
      "metadata": {
        "execution": {
          "iopub.status.busy": "2024-08-31T05:12:16.626678Z",
          "iopub.execute_input": "2024-08-31T05:12:16.627291Z",
          "iopub.status.idle": "2024-08-31T05:12:16.642472Z",
          "shell.execute_reply.started": "2024-08-31T05:12:16.627231Z",
          "shell.execute_reply": "2024-08-31T05:12:16.641142Z"
        },
        "trusted": true,
        "id": "aeBHizpl46WM",
        "outputId": "c9ffdde1-0255-49c0-b2ea-43d1e1310eb3"
      },
      "execution_count": null,
      "outputs": [
        {
          "execution_count": 7,
          "output_type": "execute_result",
          "data": {
            "text/plain": "Class\n0    284315\n1       492\nName: count, dtype: int64"
          },
          "metadata": {}
        }
      ]
    },
    {
      "cell_type": "markdown",
      "source": [
        "**preprocessing data**"
      ],
      "metadata": {
        "id": "Y-2vOr1546WO"
      }
    },
    {
      "cell_type": "code",
      "source": [
        "#separate the data\n",
        "n=dt[dt[\"Class\"]==0]\n",
        "f=dt[dt[\"Class\"]==1]"
      ],
      "metadata": {
        "execution": {
          "iopub.status.busy": "2024-08-31T05:13:06.430368Z",
          "iopub.execute_input": "2024-08-31T05:13:06.430812Z",
          "iopub.status.idle": "2024-08-31T05:13:06.475086Z",
          "shell.execute_reply.started": "2024-08-31T05:13:06.430744Z",
          "shell.execute_reply": "2024-08-31T05:13:06.47371Z"
        },
        "trusted": true,
        "id": "OROOulMA46WP"
      },
      "execution_count": null,
      "outputs": []
    },
    {
      "cell_type": "code",
      "source": [
        "n.shape"
      ],
      "metadata": {
        "execution": {
          "iopub.status.busy": "2024-08-31T05:13:10.911103Z",
          "iopub.execute_input": "2024-08-31T05:13:10.911545Z",
          "iopub.status.idle": "2024-08-31T05:13:10.920023Z",
          "shell.execute_reply.started": "2024-08-31T05:13:10.911504Z",
          "shell.execute_reply": "2024-08-31T05:13:10.918591Z"
        },
        "trusted": true,
        "id": "p5IhW3Q046WQ",
        "outputId": "c8eff247-d339-4e84-89e9-5d5f6702db14"
      },
      "execution_count": null,
      "outputs": [
        {
          "execution_count": 11,
          "output_type": "execute_result",
          "data": {
            "text/plain": "(284315, 31)"
          },
          "metadata": {}
        }
      ]
    },
    {
      "cell_type": "code",
      "source": [
        "f.shape"
      ],
      "metadata": {
        "execution": {
          "iopub.status.busy": "2024-08-31T05:13:15.158737Z",
          "iopub.execute_input": "2024-08-31T05:13:15.159206Z",
          "iopub.status.idle": "2024-08-31T05:13:15.166686Z",
          "shell.execute_reply.started": "2024-08-31T05:13:15.15916Z",
          "shell.execute_reply": "2024-08-31T05:13:15.165193Z"
        },
        "trusted": true,
        "id": "eZMKI3Td46WQ",
        "outputId": "cdc29bd8-9c9a-4c21-b1fd-acc9b1bf12ad"
      },
      "execution_count": null,
      "outputs": [
        {
          "execution_count": 12,
          "output_type": "execute_result",
          "data": {
            "text/plain": "(492, 31)"
          },
          "metadata": {}
        }
      ]
    },
    {
      "cell_type": "code",
      "source": [
        "n[\"Amount\"].describe()"
      ],
      "metadata": {
        "execution": {
          "iopub.status.busy": "2024-08-31T05:13:27.630308Z",
          "iopub.execute_input": "2024-08-31T05:13:27.630822Z",
          "iopub.status.idle": "2024-08-31T05:13:27.657558Z",
          "shell.execute_reply.started": "2024-08-31T05:13:27.630768Z",
          "shell.execute_reply": "2024-08-31T05:13:27.656345Z"
        },
        "trusted": true,
        "id": "CBtsT6FS46WR",
        "outputId": "bd8174e7-4f90-4c08-f492-36e6c3e5d466"
      },
      "execution_count": null,
      "outputs": [
        {
          "execution_count": 13,
          "output_type": "execute_result",
          "data": {
            "text/plain": "count    284315.000000\nmean         88.291022\nstd         250.105092\nmin           0.000000\n25%           5.650000\n50%          22.000000\n75%          77.050000\nmax       25691.160000\nName: Amount, dtype: float64"
          },
          "metadata": {}
        }
      ]
    },
    {
      "cell_type": "code",
      "source": [
        "f[\"Amount\"].describe()"
      ],
      "metadata": {
        "execution": {
          "iopub.status.busy": "2024-08-31T05:13:33.544809Z",
          "iopub.execute_input": "2024-08-31T05:13:33.545248Z",
          "iopub.status.idle": "2024-08-31T05:13:33.557458Z",
          "shell.execute_reply.started": "2024-08-31T05:13:33.545203Z",
          "shell.execute_reply": "2024-08-31T05:13:33.556311Z"
        },
        "trusted": true,
        "id": "hkgdAVBS46WS",
        "outputId": "01bf8681-d9c9-417a-e28d-1290d4c5a027"
      },
      "execution_count": null,
      "outputs": [
        {
          "execution_count": 14,
          "output_type": "execute_result",
          "data": {
            "text/plain": "count     492.000000\nmean      122.211321\nstd       256.683288\nmin         0.000000\n25%         1.000000\n50%         9.250000\n75%       105.890000\nmax      2125.870000\nName: Amount, dtype: float64"
          },
          "metadata": {}
        }
      ]
    },
    {
      "cell_type": "code",
      "source": [
        "dt_class=dt.groupby(\"Class\").mean()"
      ],
      "metadata": {
        "execution": {
          "iopub.status.busy": "2024-08-31T05:14:03.73446Z",
          "iopub.execute_input": "2024-08-31T05:14:03.734929Z",
          "iopub.status.idle": "2024-08-31T05:14:03.856624Z",
          "shell.execute_reply.started": "2024-08-31T05:14:03.734884Z",
          "shell.execute_reply": "2024-08-31T05:14:03.85524Z"
        },
        "trusted": true,
        "id": "TJaBrPRt46WS"
      },
      "execution_count": null,
      "outputs": []
    },
    {
      "cell_type": "code",
      "source": [
        "dt_class"
      ],
      "metadata": {
        "execution": {
          "iopub.status.busy": "2024-08-31T05:14:08.700214Z",
          "iopub.execute_input": "2024-08-31T05:14:08.700637Z",
          "iopub.status.idle": "2024-08-31T05:14:08.725528Z",
          "shell.execute_reply.started": "2024-08-31T05:14:08.700595Z",
          "shell.execute_reply": "2024-08-31T05:14:08.72444Z"
        },
        "trusted": true,
        "id": "9i8ANwV946WT",
        "outputId": "075d5b99-92bc-4924-d9d4-b7c4f36c5671"
      },
      "execution_count": null,
      "outputs": [
        {
          "execution_count": 16,
          "output_type": "execute_result",
          "data": {
            "text/plain": "               Time        V1        V2        V3        V4        V5  \\\nClass                                                                   \n0      94838.202258  0.008258 -0.006271  0.012171 -0.007860  0.005453   \n1      80746.806911 -4.771948  3.623778 -7.033281  4.542029 -3.151225   \n\n             V6        V7        V8        V9  ...       V20       V21  \\\nClass                                          ...                       \n0      0.002419  0.009637 -0.000987  0.004467  ... -0.000644 -0.001235   \n1     -1.397737 -5.568731  0.570636 -2.581123  ...  0.372319  0.713588   \n\n            V22       V23       V24       V25       V26       V27       V28  \\\nClass                                                                         \n0     -0.000024  0.000070  0.000182 -0.000072 -0.000089 -0.000295 -0.000131   \n1      0.014049 -0.040308 -0.105130  0.041449  0.051648  0.170575  0.075667   \n\n           Amount  \nClass              \n0       88.291022  \n1      122.211321  \n\n[2 rows x 30 columns]",
            "text/html": "<div>\n<style scoped>\n    .dataframe tbody tr th:only-of-type {\n        vertical-align: middle;\n    }\n\n    .dataframe tbody tr th {\n        vertical-align: top;\n    }\n\n    .dataframe thead th {\n        text-align: right;\n    }\n</style>\n<table border=\"1\" class=\"dataframe\">\n  <thead>\n    <tr style=\"text-align: right;\">\n      <th></th>\n      <th>Time</th>\n      <th>V1</th>\n      <th>V2</th>\n      <th>V3</th>\n      <th>V4</th>\n      <th>V5</th>\n      <th>V6</th>\n      <th>V7</th>\n      <th>V8</th>\n      <th>V9</th>\n      <th>...</th>\n      <th>V20</th>\n      <th>V21</th>\n      <th>V22</th>\n      <th>V23</th>\n      <th>V24</th>\n      <th>V25</th>\n      <th>V26</th>\n      <th>V27</th>\n      <th>V28</th>\n      <th>Amount</th>\n    </tr>\n    <tr>\n      <th>Class</th>\n      <th></th>\n      <th></th>\n      <th></th>\n      <th></th>\n      <th></th>\n      <th></th>\n      <th></th>\n      <th></th>\n      <th></th>\n      <th></th>\n      <th></th>\n      <th></th>\n      <th></th>\n      <th></th>\n      <th></th>\n      <th></th>\n      <th></th>\n      <th></th>\n      <th></th>\n      <th></th>\n      <th></th>\n    </tr>\n  </thead>\n  <tbody>\n    <tr>\n      <th>0</th>\n      <td>94838.202258</td>\n      <td>0.008258</td>\n      <td>-0.006271</td>\n      <td>0.012171</td>\n      <td>-0.007860</td>\n      <td>0.005453</td>\n      <td>0.002419</td>\n      <td>0.009637</td>\n      <td>-0.000987</td>\n      <td>0.004467</td>\n      <td>...</td>\n      <td>-0.000644</td>\n      <td>-0.001235</td>\n      <td>-0.000024</td>\n      <td>0.000070</td>\n      <td>0.000182</td>\n      <td>-0.000072</td>\n      <td>-0.000089</td>\n      <td>-0.000295</td>\n      <td>-0.000131</td>\n      <td>88.291022</td>\n    </tr>\n    <tr>\n      <th>1</th>\n      <td>80746.806911</td>\n      <td>-4.771948</td>\n      <td>3.623778</td>\n      <td>-7.033281</td>\n      <td>4.542029</td>\n      <td>-3.151225</td>\n      <td>-1.397737</td>\n      <td>-5.568731</td>\n      <td>0.570636</td>\n      <td>-2.581123</td>\n      <td>...</td>\n      <td>0.372319</td>\n      <td>0.713588</td>\n      <td>0.014049</td>\n      <td>-0.040308</td>\n      <td>-0.105130</td>\n      <td>0.041449</td>\n      <td>0.051648</td>\n      <td>0.170575</td>\n      <td>0.075667</td>\n      <td>122.211321</td>\n    </tr>\n  </tbody>\n</table>\n<p>2 rows × 30 columns</p>\n</div>"
          },
          "metadata": {}
        }
      ]
    },
    {
      "cell_type": "markdown",
      "source": [
        "Under sampling the dataset"
      ],
      "metadata": {
        "id": "t2srhMDZ46WT"
      }
    },
    {
      "cell_type": "code",
      "source": [
        "n=n.sample(n=492)"
      ],
      "metadata": {
        "execution": {
          "iopub.status.busy": "2024-08-31T05:14:37.309819Z",
          "iopub.execute_input": "2024-08-31T05:14:37.310373Z",
          "iopub.status.idle": "2024-08-31T05:14:37.329253Z",
          "shell.execute_reply.started": "2024-08-31T05:14:37.310314Z",
          "shell.execute_reply": "2024-08-31T05:14:37.328244Z"
        },
        "trusted": true,
        "id": "A8uSvHxM46WU"
      },
      "execution_count": null,
      "outputs": []
    },
    {
      "cell_type": "code",
      "source": [
        "new_dt = ps.concat([n, f], axis=0)"
      ],
      "metadata": {
        "execution": {
          "iopub.status.busy": "2024-08-31T05:15:32.097532Z",
          "iopub.execute_input": "2024-08-31T05:15:32.097965Z",
          "iopub.status.idle": "2024-08-31T05:15:32.104811Z",
          "shell.execute_reply.started": "2024-08-31T05:15:32.097924Z",
          "shell.execute_reply": "2024-08-31T05:15:32.103504Z"
        },
        "trusted": true,
        "id": "PPxzJEF246WU"
      },
      "execution_count": null,
      "outputs": []
    },
    {
      "cell_type": "code",
      "source": [
        "new_dt"
      ],
      "metadata": {
        "execution": {
          "iopub.status.busy": "2024-08-31T05:15:37.275283Z",
          "iopub.execute_input": "2024-08-31T05:15:37.275739Z",
          "iopub.status.idle": "2024-08-31T05:15:37.308252Z",
          "shell.execute_reply.started": "2024-08-31T05:15:37.275695Z",
          "shell.execute_reply": "2024-08-31T05:15:37.307106Z"
        },
        "trusted": true,
        "id": "YwUTYbxb46WV",
        "outputId": "3ebc1371-7455-4628-f79d-84fac396a9a0"
      },
      "execution_count": null,
      "outputs": [
        {
          "execution_count": 21,
          "output_type": "execute_result",
          "data": {
            "text/plain": "            Time        V1        V2        V3        V4        V5        V6  \\\n277338  167599.0 -1.198057  1.068628  0.432871  0.578752  0.996599 -0.837583   \n235131  148262.0 -3.406086 -0.277414 -0.006971 -3.034248 -0.947527 -0.809767   \n198504  132516.0 -1.270778 -0.381040  1.091023 -2.110014 -0.477729 -0.695855   \n173245  121401.0  1.919182 -1.742647  0.775662 -0.260260 -2.179314  0.421375   \n222911  143174.0  2.189281 -0.727144 -1.453394 -1.071583 -0.333891 -0.876030   \n...          ...       ...       ...       ...       ...       ...       ...   \n279863  169142.0 -1.927883  1.125653 -4.518331  1.749293 -1.566487 -2.010494   \n280143  169347.0  1.378559  1.289381 -5.004247  1.411850  0.442581 -1.326536   \n280149  169351.0 -0.676143  1.126366 -2.213700  0.468308 -1.120541 -0.003346   \n281144  169966.0 -3.113832  0.585864 -5.399730  1.817092 -0.840618 -2.943548   \n281674  170348.0  1.991976  0.158476 -2.583441  0.408670  1.151147 -0.096695   \n\n              V7        V8        V9  ...       V21       V22       V23  \\\n277338  1.255982 -0.262513 -0.146392  ...  0.011126  0.609820 -0.096325   \n235131 -0.767003  1.202750 -0.765520  ... -0.391759 -0.577357  0.237621   \n198504 -0.618236  0.522338 -1.038519  ...  0.529561  1.153600 -0.274832   \n173245 -1.934811  0.253900  1.537901  ...  0.333796  1.337362  0.046490   \n222911 -0.355614 -0.302825 -0.863469  ...  0.472976  1.361456 -0.091372   \n...          ...       ...       ...  ...       ...       ...       ...   \n279863 -0.882850  0.697211 -2.064945  ...  0.778584 -0.319189  0.639419   \n280143 -1.413170  0.248525 -1.127396  ...  0.370612  0.028234 -0.145640   \n280149 -2.234739  1.210158 -0.652250  ...  0.751826  0.834108  0.190944   \n281144 -2.208002  1.058733 -1.632333  ...  0.583276 -0.269209 -0.456108   \n281674  0.223050 -0.068384  0.577829  ... -0.164350 -0.295135 -0.072173   \n\n             V24       V25       V26       V27       V28  Amount  Class  \n277338 -0.019346  0.673976 -0.443096  0.250681  0.131341   28.56      0  \n235131 -0.392304  0.750944  0.553298 -0.466060 -0.271156   22.00      0  \n198504  0.049728 -0.083172 -0.217684 -0.147801  0.045298   19.95      0  \n173245  0.077855 -0.235563  0.014173  0.086364 -0.020096   79.00      0  \n222911 -0.326797  0.243627  0.069989 -0.041225 -0.076403   25.00      0  \n...          ...       ...       ...       ...       ...     ...    ...  \n279863 -0.294885  0.537503  0.788395  0.292680  0.147968  390.00      1  \n280143 -0.081049  0.521875  0.739467  0.389152  0.186637    0.76      1  \n280149  0.032070 -0.739695  0.471111  0.385107  0.194361   77.89      1  \n281144 -0.183659 -0.328168  0.606116  0.884876 -0.253700  245.00      1  \n281674 -0.450261  0.313267 -0.289617  0.002988 -0.015309   42.53      1  \n\n[984 rows x 31 columns]",
            "text/html": "<div>\n<style scoped>\n    .dataframe tbody tr th:only-of-type {\n        vertical-align: middle;\n    }\n\n    .dataframe tbody tr th {\n        vertical-align: top;\n    }\n\n    .dataframe thead th {\n        text-align: right;\n    }\n</style>\n<table border=\"1\" class=\"dataframe\">\n  <thead>\n    <tr style=\"text-align: right;\">\n      <th></th>\n      <th>Time</th>\n      <th>V1</th>\n      <th>V2</th>\n      <th>V3</th>\n      <th>V4</th>\n      <th>V5</th>\n      <th>V6</th>\n      <th>V7</th>\n      <th>V8</th>\n      <th>V9</th>\n      <th>...</th>\n      <th>V21</th>\n      <th>V22</th>\n      <th>V23</th>\n      <th>V24</th>\n      <th>V25</th>\n      <th>V26</th>\n      <th>V27</th>\n      <th>V28</th>\n      <th>Amount</th>\n      <th>Class</th>\n    </tr>\n  </thead>\n  <tbody>\n    <tr>\n      <th>277338</th>\n      <td>167599.0</td>\n      <td>-1.198057</td>\n      <td>1.068628</td>\n      <td>0.432871</td>\n      <td>0.578752</td>\n      <td>0.996599</td>\n      <td>-0.837583</td>\n      <td>1.255982</td>\n      <td>-0.262513</td>\n      <td>-0.146392</td>\n      <td>...</td>\n      <td>0.011126</td>\n      <td>0.609820</td>\n      <td>-0.096325</td>\n      <td>-0.019346</td>\n      <td>0.673976</td>\n      <td>-0.443096</td>\n      <td>0.250681</td>\n      <td>0.131341</td>\n      <td>28.56</td>\n      <td>0</td>\n    </tr>\n    <tr>\n      <th>235131</th>\n      <td>148262.0</td>\n      <td>-3.406086</td>\n      <td>-0.277414</td>\n      <td>-0.006971</td>\n      <td>-3.034248</td>\n      <td>-0.947527</td>\n      <td>-0.809767</td>\n      <td>-0.767003</td>\n      <td>1.202750</td>\n      <td>-0.765520</td>\n      <td>...</td>\n      <td>-0.391759</td>\n      <td>-0.577357</td>\n      <td>0.237621</td>\n      <td>-0.392304</td>\n      <td>0.750944</td>\n      <td>0.553298</td>\n      <td>-0.466060</td>\n      <td>-0.271156</td>\n      <td>22.00</td>\n      <td>0</td>\n    </tr>\n    <tr>\n      <th>198504</th>\n      <td>132516.0</td>\n      <td>-1.270778</td>\n      <td>-0.381040</td>\n      <td>1.091023</td>\n      <td>-2.110014</td>\n      <td>-0.477729</td>\n      <td>-0.695855</td>\n      <td>-0.618236</td>\n      <td>0.522338</td>\n      <td>-1.038519</td>\n      <td>...</td>\n      <td>0.529561</td>\n      <td>1.153600</td>\n      <td>-0.274832</td>\n      <td>0.049728</td>\n      <td>-0.083172</td>\n      <td>-0.217684</td>\n      <td>-0.147801</td>\n      <td>0.045298</td>\n      <td>19.95</td>\n      <td>0</td>\n    </tr>\n    <tr>\n      <th>173245</th>\n      <td>121401.0</td>\n      <td>1.919182</td>\n      <td>-1.742647</td>\n      <td>0.775662</td>\n      <td>-0.260260</td>\n      <td>-2.179314</td>\n      <td>0.421375</td>\n      <td>-1.934811</td>\n      <td>0.253900</td>\n      <td>1.537901</td>\n      <td>...</td>\n      <td>0.333796</td>\n      <td>1.337362</td>\n      <td>0.046490</td>\n      <td>0.077855</td>\n      <td>-0.235563</td>\n      <td>0.014173</td>\n      <td>0.086364</td>\n      <td>-0.020096</td>\n      <td>79.00</td>\n      <td>0</td>\n    </tr>\n    <tr>\n      <th>222911</th>\n      <td>143174.0</td>\n      <td>2.189281</td>\n      <td>-0.727144</td>\n      <td>-1.453394</td>\n      <td>-1.071583</td>\n      <td>-0.333891</td>\n      <td>-0.876030</td>\n      <td>-0.355614</td>\n      <td>-0.302825</td>\n      <td>-0.863469</td>\n      <td>...</td>\n      <td>0.472976</td>\n      <td>1.361456</td>\n      <td>-0.091372</td>\n      <td>-0.326797</td>\n      <td>0.243627</td>\n      <td>0.069989</td>\n      <td>-0.041225</td>\n      <td>-0.076403</td>\n      <td>25.00</td>\n      <td>0</td>\n    </tr>\n    <tr>\n      <th>...</th>\n      <td>...</td>\n      <td>...</td>\n      <td>...</td>\n      <td>...</td>\n      <td>...</td>\n      <td>...</td>\n      <td>...</td>\n      <td>...</td>\n      <td>...</td>\n      <td>...</td>\n      <td>...</td>\n      <td>...</td>\n      <td>...</td>\n      <td>...</td>\n      <td>...</td>\n      <td>...</td>\n      <td>...</td>\n      <td>...</td>\n      <td>...</td>\n      <td>...</td>\n      <td>...</td>\n    </tr>\n    <tr>\n      <th>279863</th>\n      <td>169142.0</td>\n      <td>-1.927883</td>\n      <td>1.125653</td>\n      <td>-4.518331</td>\n      <td>1.749293</td>\n      <td>-1.566487</td>\n      <td>-2.010494</td>\n      <td>-0.882850</td>\n      <td>0.697211</td>\n      <td>-2.064945</td>\n      <td>...</td>\n      <td>0.778584</td>\n      <td>-0.319189</td>\n      <td>0.639419</td>\n      <td>-0.294885</td>\n      <td>0.537503</td>\n      <td>0.788395</td>\n      <td>0.292680</td>\n      <td>0.147968</td>\n      <td>390.00</td>\n      <td>1</td>\n    </tr>\n    <tr>\n      <th>280143</th>\n      <td>169347.0</td>\n      <td>1.378559</td>\n      <td>1.289381</td>\n      <td>-5.004247</td>\n      <td>1.411850</td>\n      <td>0.442581</td>\n      <td>-1.326536</td>\n      <td>-1.413170</td>\n      <td>0.248525</td>\n      <td>-1.127396</td>\n      <td>...</td>\n      <td>0.370612</td>\n      <td>0.028234</td>\n      <td>-0.145640</td>\n      <td>-0.081049</td>\n      <td>0.521875</td>\n      <td>0.739467</td>\n      <td>0.389152</td>\n      <td>0.186637</td>\n      <td>0.76</td>\n      <td>1</td>\n    </tr>\n    <tr>\n      <th>280149</th>\n      <td>169351.0</td>\n      <td>-0.676143</td>\n      <td>1.126366</td>\n      <td>-2.213700</td>\n      <td>0.468308</td>\n      <td>-1.120541</td>\n      <td>-0.003346</td>\n      <td>-2.234739</td>\n      <td>1.210158</td>\n      <td>-0.652250</td>\n      <td>...</td>\n      <td>0.751826</td>\n      <td>0.834108</td>\n      <td>0.190944</td>\n      <td>0.032070</td>\n      <td>-0.739695</td>\n      <td>0.471111</td>\n      <td>0.385107</td>\n      <td>0.194361</td>\n      <td>77.89</td>\n      <td>1</td>\n    </tr>\n    <tr>\n      <th>281144</th>\n      <td>169966.0</td>\n      <td>-3.113832</td>\n      <td>0.585864</td>\n      <td>-5.399730</td>\n      <td>1.817092</td>\n      <td>-0.840618</td>\n      <td>-2.943548</td>\n      <td>-2.208002</td>\n      <td>1.058733</td>\n      <td>-1.632333</td>\n      <td>...</td>\n      <td>0.583276</td>\n      <td>-0.269209</td>\n      <td>-0.456108</td>\n      <td>-0.183659</td>\n      <td>-0.328168</td>\n      <td>0.606116</td>\n      <td>0.884876</td>\n      <td>-0.253700</td>\n      <td>245.00</td>\n      <td>1</td>\n    </tr>\n    <tr>\n      <th>281674</th>\n      <td>170348.0</td>\n      <td>1.991976</td>\n      <td>0.158476</td>\n      <td>-2.583441</td>\n      <td>0.408670</td>\n      <td>1.151147</td>\n      <td>-0.096695</td>\n      <td>0.223050</td>\n      <td>-0.068384</td>\n      <td>0.577829</td>\n      <td>...</td>\n      <td>-0.164350</td>\n      <td>-0.295135</td>\n      <td>-0.072173</td>\n      <td>-0.450261</td>\n      <td>0.313267</td>\n      <td>-0.289617</td>\n      <td>0.002988</td>\n      <td>-0.015309</td>\n      <td>42.53</td>\n      <td>1</td>\n    </tr>\n  </tbody>\n</table>\n<p>984 rows × 31 columns</p>\n</div>"
          },
          "metadata": {}
        }
      ]
    },
    {
      "cell_type": "code",
      "source": [
        "new_dt.Class.value_counts()"
      ],
      "metadata": {
        "execution": {
          "iopub.status.busy": "2024-08-31T05:15:52.772634Z",
          "iopub.execute_input": "2024-08-31T05:15:52.773086Z",
          "iopub.status.idle": "2024-08-31T05:15:52.782347Z",
          "shell.execute_reply.started": "2024-08-31T05:15:52.773039Z",
          "shell.execute_reply": "2024-08-31T05:15:52.781107Z"
        },
        "trusted": true,
        "id": "uWoTIAzX46WV",
        "outputId": "afb272d3-c73d-44e9-9cc9-6b48da609d70"
      },
      "execution_count": null,
      "outputs": [
        {
          "execution_count": 22,
          "output_type": "execute_result",
          "data": {
            "text/plain": "Class\n0    492\n1    492\nName: count, dtype: int64"
          },
          "metadata": {}
        }
      ]
    },
    {
      "cell_type": "code",
      "source": [
        "new_dt_g=new_dt.groupby(\"Class\").mean()"
      ],
      "metadata": {
        "execution": {
          "iopub.status.busy": "2024-08-31T05:16:22.626387Z",
          "iopub.execute_input": "2024-08-31T05:16:22.626973Z",
          "iopub.status.idle": "2024-08-31T05:16:22.634673Z",
          "shell.execute_reply.started": "2024-08-31T05:16:22.626919Z",
          "shell.execute_reply": "2024-08-31T05:16:22.633195Z"
        },
        "trusted": true,
        "id": "L8JiIA7V46WV"
      },
      "execution_count": null,
      "outputs": []
    },
    {
      "cell_type": "code",
      "source": [
        "new_dt_g"
      ],
      "metadata": {
        "execution": {
          "iopub.status.busy": "2024-08-31T05:16:26.236065Z",
          "iopub.execute_input": "2024-08-31T05:16:26.237162Z",
          "iopub.status.idle": "2024-08-31T05:16:26.259377Z",
          "shell.execute_reply.started": "2024-08-31T05:16:26.237113Z",
          "shell.execute_reply": "2024-08-31T05:16:26.258268Z"
        },
        "trusted": true,
        "id": "-gkUx-4l46WV",
        "outputId": "a71bd262-42a1-4c96-9f2b-c607c50dc36f"
      },
      "execution_count": null,
      "outputs": [
        {
          "execution_count": 25,
          "output_type": "execute_result",
          "data": {
            "text/plain": "               Time        V1        V2        V3        V4        V5  \\\nClass                                                                   \n0      99338.101626 -0.096918  0.024178 -0.105379 -0.006059  0.088591   \n1      80746.806911 -4.771948  3.623778 -7.033281  4.542029 -3.151225   \n\n             V6        V7        V8        V9  ...       V20       V21  \\\nClass                                          ...                       \n0     -0.023598  0.072718 -0.026442 -0.051611  ...  0.023770  0.052560   \n1     -1.397737 -5.568731  0.570636 -2.581123  ...  0.372319  0.713588   \n\n            V22       V23       V24       V25       V26       V27       V28  \\\nClass                                                                         \n0     -0.001036  0.042845 -0.039633 -0.024804  0.027070 -0.045466 -0.000373   \n1      0.014049 -0.040308 -0.105130  0.041449  0.051648  0.170575  0.075667   \n\n           Amount  \nClass              \n0       91.190285  \n1      122.211321  \n\n[2 rows x 30 columns]",
            "text/html": "<div>\n<style scoped>\n    .dataframe tbody tr th:only-of-type {\n        vertical-align: middle;\n    }\n\n    .dataframe tbody tr th {\n        vertical-align: top;\n    }\n\n    .dataframe thead th {\n        text-align: right;\n    }\n</style>\n<table border=\"1\" class=\"dataframe\">\n  <thead>\n    <tr style=\"text-align: right;\">\n      <th></th>\n      <th>Time</th>\n      <th>V1</th>\n      <th>V2</th>\n      <th>V3</th>\n      <th>V4</th>\n      <th>V5</th>\n      <th>V6</th>\n      <th>V7</th>\n      <th>V8</th>\n      <th>V9</th>\n      <th>...</th>\n      <th>V20</th>\n      <th>V21</th>\n      <th>V22</th>\n      <th>V23</th>\n      <th>V24</th>\n      <th>V25</th>\n      <th>V26</th>\n      <th>V27</th>\n      <th>V28</th>\n      <th>Amount</th>\n    </tr>\n    <tr>\n      <th>Class</th>\n      <th></th>\n      <th></th>\n      <th></th>\n      <th></th>\n      <th></th>\n      <th></th>\n      <th></th>\n      <th></th>\n      <th></th>\n      <th></th>\n      <th></th>\n      <th></th>\n      <th></th>\n      <th></th>\n      <th></th>\n      <th></th>\n      <th></th>\n      <th></th>\n      <th></th>\n      <th></th>\n      <th></th>\n    </tr>\n  </thead>\n  <tbody>\n    <tr>\n      <th>0</th>\n      <td>99338.101626</td>\n      <td>-0.096918</td>\n      <td>0.024178</td>\n      <td>-0.105379</td>\n      <td>-0.006059</td>\n      <td>0.088591</td>\n      <td>-0.023598</td>\n      <td>0.072718</td>\n      <td>-0.026442</td>\n      <td>-0.051611</td>\n      <td>...</td>\n      <td>0.023770</td>\n      <td>0.052560</td>\n      <td>-0.001036</td>\n      <td>0.042845</td>\n      <td>-0.039633</td>\n      <td>-0.024804</td>\n      <td>0.027070</td>\n      <td>-0.045466</td>\n      <td>-0.000373</td>\n      <td>91.190285</td>\n    </tr>\n    <tr>\n      <th>1</th>\n      <td>80746.806911</td>\n      <td>-4.771948</td>\n      <td>3.623778</td>\n      <td>-7.033281</td>\n      <td>4.542029</td>\n      <td>-3.151225</td>\n      <td>-1.397737</td>\n      <td>-5.568731</td>\n      <td>0.570636</td>\n      <td>-2.581123</td>\n      <td>...</td>\n      <td>0.372319</td>\n      <td>0.713588</td>\n      <td>0.014049</td>\n      <td>-0.040308</td>\n      <td>-0.105130</td>\n      <td>0.041449</td>\n      <td>0.051648</td>\n      <td>0.170575</td>\n      <td>0.075667</td>\n      <td>122.211321</td>\n    </tr>\n  </tbody>\n</table>\n<p>2 rows × 30 columns</p>\n</div>"
          },
          "metadata": {}
        }
      ]
    },
    {
      "cell_type": "code",
      "source": [
        "new_dt"
      ],
      "metadata": {
        "execution": {
          "iopub.status.busy": "2024-08-31T05:16:31.310974Z",
          "iopub.execute_input": "2024-08-31T05:16:31.311433Z",
          "iopub.status.idle": "2024-08-31T05:16:31.34487Z",
          "shell.execute_reply.started": "2024-08-31T05:16:31.311391Z",
          "shell.execute_reply": "2024-08-31T05:16:31.343519Z"
        },
        "trusted": true,
        "id": "93nW1mjv46WW",
        "outputId": "9a337a21-c78a-4e9b-9a1b-e89a6060f0f7"
      },
      "execution_count": null,
      "outputs": [
        {
          "execution_count": 26,
          "output_type": "execute_result",
          "data": {
            "text/plain": "            Time        V1        V2        V3        V4        V5        V6  \\\n277338  167599.0 -1.198057  1.068628  0.432871  0.578752  0.996599 -0.837583   \n235131  148262.0 -3.406086 -0.277414 -0.006971 -3.034248 -0.947527 -0.809767   \n198504  132516.0 -1.270778 -0.381040  1.091023 -2.110014 -0.477729 -0.695855   \n173245  121401.0  1.919182 -1.742647  0.775662 -0.260260 -2.179314  0.421375   \n222911  143174.0  2.189281 -0.727144 -1.453394 -1.071583 -0.333891 -0.876030   \n...          ...       ...       ...       ...       ...       ...       ...   \n279863  169142.0 -1.927883  1.125653 -4.518331  1.749293 -1.566487 -2.010494   \n280143  169347.0  1.378559  1.289381 -5.004247  1.411850  0.442581 -1.326536   \n280149  169351.0 -0.676143  1.126366 -2.213700  0.468308 -1.120541 -0.003346   \n281144  169966.0 -3.113832  0.585864 -5.399730  1.817092 -0.840618 -2.943548   \n281674  170348.0  1.991976  0.158476 -2.583441  0.408670  1.151147 -0.096695   \n\n              V7        V8        V9  ...       V21       V22       V23  \\\n277338  1.255982 -0.262513 -0.146392  ...  0.011126  0.609820 -0.096325   \n235131 -0.767003  1.202750 -0.765520  ... -0.391759 -0.577357  0.237621   \n198504 -0.618236  0.522338 -1.038519  ...  0.529561  1.153600 -0.274832   \n173245 -1.934811  0.253900  1.537901  ...  0.333796  1.337362  0.046490   \n222911 -0.355614 -0.302825 -0.863469  ...  0.472976  1.361456 -0.091372   \n...          ...       ...       ...  ...       ...       ...       ...   \n279863 -0.882850  0.697211 -2.064945  ...  0.778584 -0.319189  0.639419   \n280143 -1.413170  0.248525 -1.127396  ...  0.370612  0.028234 -0.145640   \n280149 -2.234739  1.210158 -0.652250  ...  0.751826  0.834108  0.190944   \n281144 -2.208002  1.058733 -1.632333  ...  0.583276 -0.269209 -0.456108   \n281674  0.223050 -0.068384  0.577829  ... -0.164350 -0.295135 -0.072173   \n\n             V24       V25       V26       V27       V28  Amount  Class  \n277338 -0.019346  0.673976 -0.443096  0.250681  0.131341   28.56      0  \n235131 -0.392304  0.750944  0.553298 -0.466060 -0.271156   22.00      0  \n198504  0.049728 -0.083172 -0.217684 -0.147801  0.045298   19.95      0  \n173245  0.077855 -0.235563  0.014173  0.086364 -0.020096   79.00      0  \n222911 -0.326797  0.243627  0.069989 -0.041225 -0.076403   25.00      0  \n...          ...       ...       ...       ...       ...     ...    ...  \n279863 -0.294885  0.537503  0.788395  0.292680  0.147968  390.00      1  \n280143 -0.081049  0.521875  0.739467  0.389152  0.186637    0.76      1  \n280149  0.032070 -0.739695  0.471111  0.385107  0.194361   77.89      1  \n281144 -0.183659 -0.328168  0.606116  0.884876 -0.253700  245.00      1  \n281674 -0.450261  0.313267 -0.289617  0.002988 -0.015309   42.53      1  \n\n[984 rows x 31 columns]",
            "text/html": "<div>\n<style scoped>\n    .dataframe tbody tr th:only-of-type {\n        vertical-align: middle;\n    }\n\n    .dataframe tbody tr th {\n        vertical-align: top;\n    }\n\n    .dataframe thead th {\n        text-align: right;\n    }\n</style>\n<table border=\"1\" class=\"dataframe\">\n  <thead>\n    <tr style=\"text-align: right;\">\n      <th></th>\n      <th>Time</th>\n      <th>V1</th>\n      <th>V2</th>\n      <th>V3</th>\n      <th>V4</th>\n      <th>V5</th>\n      <th>V6</th>\n      <th>V7</th>\n      <th>V8</th>\n      <th>V9</th>\n      <th>...</th>\n      <th>V21</th>\n      <th>V22</th>\n      <th>V23</th>\n      <th>V24</th>\n      <th>V25</th>\n      <th>V26</th>\n      <th>V27</th>\n      <th>V28</th>\n      <th>Amount</th>\n      <th>Class</th>\n    </tr>\n  </thead>\n  <tbody>\n    <tr>\n      <th>277338</th>\n      <td>167599.0</td>\n      <td>-1.198057</td>\n      <td>1.068628</td>\n      <td>0.432871</td>\n      <td>0.578752</td>\n      <td>0.996599</td>\n      <td>-0.837583</td>\n      <td>1.255982</td>\n      <td>-0.262513</td>\n      <td>-0.146392</td>\n      <td>...</td>\n      <td>0.011126</td>\n      <td>0.609820</td>\n      <td>-0.096325</td>\n      <td>-0.019346</td>\n      <td>0.673976</td>\n      <td>-0.443096</td>\n      <td>0.250681</td>\n      <td>0.131341</td>\n      <td>28.56</td>\n      <td>0</td>\n    </tr>\n    <tr>\n      <th>235131</th>\n      <td>148262.0</td>\n      <td>-3.406086</td>\n      <td>-0.277414</td>\n      <td>-0.006971</td>\n      <td>-3.034248</td>\n      <td>-0.947527</td>\n      <td>-0.809767</td>\n      <td>-0.767003</td>\n      <td>1.202750</td>\n      <td>-0.765520</td>\n      <td>...</td>\n      <td>-0.391759</td>\n      <td>-0.577357</td>\n      <td>0.237621</td>\n      <td>-0.392304</td>\n      <td>0.750944</td>\n      <td>0.553298</td>\n      <td>-0.466060</td>\n      <td>-0.271156</td>\n      <td>22.00</td>\n      <td>0</td>\n    </tr>\n    <tr>\n      <th>198504</th>\n      <td>132516.0</td>\n      <td>-1.270778</td>\n      <td>-0.381040</td>\n      <td>1.091023</td>\n      <td>-2.110014</td>\n      <td>-0.477729</td>\n      <td>-0.695855</td>\n      <td>-0.618236</td>\n      <td>0.522338</td>\n      <td>-1.038519</td>\n      <td>...</td>\n      <td>0.529561</td>\n      <td>1.153600</td>\n      <td>-0.274832</td>\n      <td>0.049728</td>\n      <td>-0.083172</td>\n      <td>-0.217684</td>\n      <td>-0.147801</td>\n      <td>0.045298</td>\n      <td>19.95</td>\n      <td>0</td>\n    </tr>\n    <tr>\n      <th>173245</th>\n      <td>121401.0</td>\n      <td>1.919182</td>\n      <td>-1.742647</td>\n      <td>0.775662</td>\n      <td>-0.260260</td>\n      <td>-2.179314</td>\n      <td>0.421375</td>\n      <td>-1.934811</td>\n      <td>0.253900</td>\n      <td>1.537901</td>\n      <td>...</td>\n      <td>0.333796</td>\n      <td>1.337362</td>\n      <td>0.046490</td>\n      <td>0.077855</td>\n      <td>-0.235563</td>\n      <td>0.014173</td>\n      <td>0.086364</td>\n      <td>-0.020096</td>\n      <td>79.00</td>\n      <td>0</td>\n    </tr>\n    <tr>\n      <th>222911</th>\n      <td>143174.0</td>\n      <td>2.189281</td>\n      <td>-0.727144</td>\n      <td>-1.453394</td>\n      <td>-1.071583</td>\n      <td>-0.333891</td>\n      <td>-0.876030</td>\n      <td>-0.355614</td>\n      <td>-0.302825</td>\n      <td>-0.863469</td>\n      <td>...</td>\n      <td>0.472976</td>\n      <td>1.361456</td>\n      <td>-0.091372</td>\n      <td>-0.326797</td>\n      <td>0.243627</td>\n      <td>0.069989</td>\n      <td>-0.041225</td>\n      <td>-0.076403</td>\n      <td>25.00</td>\n      <td>0</td>\n    </tr>\n    <tr>\n      <th>...</th>\n      <td>...</td>\n      <td>...</td>\n      <td>...</td>\n      <td>...</td>\n      <td>...</td>\n      <td>...</td>\n      <td>...</td>\n      <td>...</td>\n      <td>...</td>\n      <td>...</td>\n      <td>...</td>\n      <td>...</td>\n      <td>...</td>\n      <td>...</td>\n      <td>...</td>\n      <td>...</td>\n      <td>...</td>\n      <td>...</td>\n      <td>...</td>\n      <td>...</td>\n      <td>...</td>\n    </tr>\n    <tr>\n      <th>279863</th>\n      <td>169142.0</td>\n      <td>-1.927883</td>\n      <td>1.125653</td>\n      <td>-4.518331</td>\n      <td>1.749293</td>\n      <td>-1.566487</td>\n      <td>-2.010494</td>\n      <td>-0.882850</td>\n      <td>0.697211</td>\n      <td>-2.064945</td>\n      <td>...</td>\n      <td>0.778584</td>\n      <td>-0.319189</td>\n      <td>0.639419</td>\n      <td>-0.294885</td>\n      <td>0.537503</td>\n      <td>0.788395</td>\n      <td>0.292680</td>\n      <td>0.147968</td>\n      <td>390.00</td>\n      <td>1</td>\n    </tr>\n    <tr>\n      <th>280143</th>\n      <td>169347.0</td>\n      <td>1.378559</td>\n      <td>1.289381</td>\n      <td>-5.004247</td>\n      <td>1.411850</td>\n      <td>0.442581</td>\n      <td>-1.326536</td>\n      <td>-1.413170</td>\n      <td>0.248525</td>\n      <td>-1.127396</td>\n      <td>...</td>\n      <td>0.370612</td>\n      <td>0.028234</td>\n      <td>-0.145640</td>\n      <td>-0.081049</td>\n      <td>0.521875</td>\n      <td>0.739467</td>\n      <td>0.389152</td>\n      <td>0.186637</td>\n      <td>0.76</td>\n      <td>1</td>\n    </tr>\n    <tr>\n      <th>280149</th>\n      <td>169351.0</td>\n      <td>-0.676143</td>\n      <td>1.126366</td>\n      <td>-2.213700</td>\n      <td>0.468308</td>\n      <td>-1.120541</td>\n      <td>-0.003346</td>\n      <td>-2.234739</td>\n      <td>1.210158</td>\n      <td>-0.652250</td>\n      <td>...</td>\n      <td>0.751826</td>\n      <td>0.834108</td>\n      <td>0.190944</td>\n      <td>0.032070</td>\n      <td>-0.739695</td>\n      <td>0.471111</td>\n      <td>0.385107</td>\n      <td>0.194361</td>\n      <td>77.89</td>\n      <td>1</td>\n    </tr>\n    <tr>\n      <th>281144</th>\n      <td>169966.0</td>\n      <td>-3.113832</td>\n      <td>0.585864</td>\n      <td>-5.399730</td>\n      <td>1.817092</td>\n      <td>-0.840618</td>\n      <td>-2.943548</td>\n      <td>-2.208002</td>\n      <td>1.058733</td>\n      <td>-1.632333</td>\n      <td>...</td>\n      <td>0.583276</td>\n      <td>-0.269209</td>\n      <td>-0.456108</td>\n      <td>-0.183659</td>\n      <td>-0.328168</td>\n      <td>0.606116</td>\n      <td>0.884876</td>\n      <td>-0.253700</td>\n      <td>245.00</td>\n      <td>1</td>\n    </tr>\n    <tr>\n      <th>281674</th>\n      <td>170348.0</td>\n      <td>1.991976</td>\n      <td>0.158476</td>\n      <td>-2.583441</td>\n      <td>0.408670</td>\n      <td>1.151147</td>\n      <td>-0.096695</td>\n      <td>0.223050</td>\n      <td>-0.068384</td>\n      <td>0.577829</td>\n      <td>...</td>\n      <td>-0.164350</td>\n      <td>-0.295135</td>\n      <td>-0.072173</td>\n      <td>-0.450261</td>\n      <td>0.313267</td>\n      <td>-0.289617</td>\n      <td>0.002988</td>\n      <td>-0.015309</td>\n      <td>42.53</td>\n      <td>1</td>\n    </tr>\n  </tbody>\n</table>\n<p>984 rows × 31 columns</p>\n</div>"
          },
          "metadata": {}
        }
      ]
    },
    {
      "cell_type": "markdown",
      "source": [
        "Spliting the data into features and target"
      ],
      "metadata": {
        "id": "LmMnDGVB46WW"
      }
    },
    {
      "cell_type": "code",
      "source": [
        "x=new_dt.drop(columns='Class',axis=1)\n",
        "y=new_dt[\"Class\"]"
      ],
      "metadata": {
        "execution": {
          "iopub.status.busy": "2024-08-31T05:16:42.929591Z",
          "iopub.execute_input": "2024-08-31T05:16:42.930055Z",
          "iopub.status.idle": "2024-08-31T05:16:42.936946Z",
          "shell.execute_reply.started": "2024-08-31T05:16:42.93001Z",
          "shell.execute_reply": "2024-08-31T05:16:42.935549Z"
        },
        "trusted": true,
        "id": "_slmeAs546WW"
      },
      "execution_count": null,
      "outputs": []
    },
    {
      "cell_type": "code",
      "source": [
        "x_train, x_test, y_train, y_test = train_test_split(x, y, test_size=0.2, stratify=y, random_state=2)"
      ],
      "metadata": {
        "execution": {
          "iopub.status.busy": "2024-08-31T05:16:47.581818Z",
          "iopub.execute_input": "2024-08-31T05:16:47.582862Z",
          "iopub.status.idle": "2024-08-31T05:16:47.592619Z",
          "shell.execute_reply.started": "2024-08-31T05:16:47.582804Z",
          "shell.execute_reply": "2024-08-31T05:16:47.591439Z"
        },
        "trusted": true,
        "id": "nOpGTksa46WW"
      },
      "execution_count": null,
      "outputs": []
    },
    {
      "cell_type": "code",
      "source": [
        "print(x.shape, x_train.shape, x_test.shape)"
      ],
      "metadata": {
        "execution": {
          "iopub.status.busy": "2024-08-31T05:16:52.359283Z",
          "iopub.execute_input": "2024-08-31T05:16:52.359724Z",
          "iopub.status.idle": "2024-08-31T05:16:52.366828Z",
          "shell.execute_reply.started": "2024-08-31T05:16:52.35968Z",
          "shell.execute_reply": "2024-08-31T05:16:52.365323Z"
        },
        "trusted": true,
        "id": "aU3Hwzvg46WW",
        "outputId": "a55c5599-a891-4068-aa44-d9962ffbb017"
      },
      "execution_count": null,
      "outputs": [
        {
          "name": "stdout",
          "text": "(984, 30) (787, 30) (197, 30)\n",
          "output_type": "stream"
        }
      ]
    },
    {
      "cell_type": "code",
      "source": [
        "model = LogisticRegression()"
      ],
      "metadata": {
        "execution": {
          "iopub.status.busy": "2024-08-31T05:16:59.073347Z",
          "iopub.execute_input": "2024-08-31T05:16:59.07379Z",
          "iopub.status.idle": "2024-08-31T05:16:59.07933Z",
          "shell.execute_reply.started": "2024-08-31T05:16:59.073727Z",
          "shell.execute_reply": "2024-08-31T05:16:59.077964Z"
        },
        "trusted": true,
        "id": "HXsPp40m46WX"
      },
      "execution_count": null,
      "outputs": []
    },
    {
      "cell_type": "code",
      "source": [
        "model.fit(x_train, y_train)"
      ],
      "metadata": {
        "execution": {
          "iopub.status.busy": "2024-08-31T05:17:03.278695Z",
          "iopub.execute_input": "2024-08-31T05:17:03.279175Z",
          "iopub.status.idle": "2024-08-31T05:17:03.336507Z",
          "shell.execute_reply.started": "2024-08-31T05:17:03.279129Z",
          "shell.execute_reply": "2024-08-31T05:17:03.335265Z"
        },
        "trusted": true,
        "id": "HB5C-HL146WX",
        "outputId": "a0f301ad-fccf-48e8-9bf6-ac52febfd77b"
      },
      "execution_count": null,
      "outputs": [
        {
          "execution_count": 31,
          "output_type": "execute_result",
          "data": {
            "text/plain": "LogisticRegression()",
            "text/html": "<style>#sk-container-id-1 {color: black;background-color: white;}#sk-container-id-1 pre{padding: 0;}#sk-container-id-1 div.sk-toggleable {background-color: white;}#sk-container-id-1 label.sk-toggleable__label {cursor: pointer;display: block;width: 100%;margin-bottom: 0;padding: 0.3em;box-sizing: border-box;text-align: center;}#sk-container-id-1 label.sk-toggleable__label-arrow:before {content: \"▸\";float: left;margin-right: 0.25em;color: #696969;}#sk-container-id-1 label.sk-toggleable__label-arrow:hover:before {color: black;}#sk-container-id-1 div.sk-estimator:hover label.sk-toggleable__label-arrow:before {color: black;}#sk-container-id-1 div.sk-toggleable__content {max-height: 0;max-width: 0;overflow: hidden;text-align: left;background-color: #f0f8ff;}#sk-container-id-1 div.sk-toggleable__content pre {margin: 0.2em;color: black;border-radius: 0.25em;background-color: #f0f8ff;}#sk-container-id-1 input.sk-toggleable__control:checked~div.sk-toggleable__content {max-height: 200px;max-width: 100%;overflow: auto;}#sk-container-id-1 input.sk-toggleable__control:checked~label.sk-toggleable__label-arrow:before {content: \"▾\";}#sk-container-id-1 div.sk-estimator input.sk-toggleable__control:checked~label.sk-toggleable__label {background-color: #d4ebff;}#sk-container-id-1 div.sk-label input.sk-toggleable__control:checked~label.sk-toggleable__label {background-color: #d4ebff;}#sk-container-id-1 input.sk-hidden--visually {border: 0;clip: rect(1px 1px 1px 1px);clip: rect(1px, 1px, 1px, 1px);height: 1px;margin: -1px;overflow: hidden;padding: 0;position: absolute;width: 1px;}#sk-container-id-1 div.sk-estimator {font-family: monospace;background-color: #f0f8ff;border: 1px dotted black;border-radius: 0.25em;box-sizing: border-box;margin-bottom: 0.5em;}#sk-container-id-1 div.sk-estimator:hover {background-color: #d4ebff;}#sk-container-id-1 div.sk-parallel-item::after {content: \"\";width: 100%;border-bottom: 1px solid gray;flex-grow: 1;}#sk-container-id-1 div.sk-label:hover label.sk-toggleable__label {background-color: #d4ebff;}#sk-container-id-1 div.sk-serial::before {content: \"\";position: absolute;border-left: 1px solid gray;box-sizing: border-box;top: 0;bottom: 0;left: 50%;z-index: 0;}#sk-container-id-1 div.sk-serial {display: flex;flex-direction: column;align-items: center;background-color: white;padding-right: 0.2em;padding-left: 0.2em;position: relative;}#sk-container-id-1 div.sk-item {position: relative;z-index: 1;}#sk-container-id-1 div.sk-parallel {display: flex;align-items: stretch;justify-content: center;background-color: white;position: relative;}#sk-container-id-1 div.sk-item::before, #sk-container-id-1 div.sk-parallel-item::before {content: \"\";position: absolute;border-left: 1px solid gray;box-sizing: border-box;top: 0;bottom: 0;left: 50%;z-index: -1;}#sk-container-id-1 div.sk-parallel-item {display: flex;flex-direction: column;z-index: 1;position: relative;background-color: white;}#sk-container-id-1 div.sk-parallel-item:first-child::after {align-self: flex-end;width: 50%;}#sk-container-id-1 div.sk-parallel-item:last-child::after {align-self: flex-start;width: 50%;}#sk-container-id-1 div.sk-parallel-item:only-child::after {width: 0;}#sk-container-id-1 div.sk-dashed-wrapped {border: 1px dashed gray;margin: 0 0.4em 0.5em 0.4em;box-sizing: border-box;padding-bottom: 0.4em;background-color: white;}#sk-container-id-1 div.sk-label label {font-family: monospace;font-weight: bold;display: inline-block;line-height: 1.2em;}#sk-container-id-1 div.sk-label-container {text-align: center;}#sk-container-id-1 div.sk-container {/* jupyter's `normalize.less` sets `[hidden] { display: none; }` but bootstrap.min.css set `[hidden] { display: none !important; }` so we also need the `!important` here to be able to override the default hidden behavior on the sphinx rendered scikit-learn.org. See: https://github.com/scikit-learn/scikit-learn/issues/21755 */display: inline-block !important;position: relative;}#sk-container-id-1 div.sk-text-repr-fallback {display: none;}</style><div id=\"sk-container-id-1\" class=\"sk-top-container\"><div class=\"sk-text-repr-fallback\"><pre>LogisticRegression()</pre><b>In a Jupyter environment, please rerun this cell to show the HTML representation or trust the notebook. <br />On GitHub, the HTML representation is unable to render, please try loading this page with nbviewer.org.</b></div><div class=\"sk-container\" hidden><div class=\"sk-item\"><div class=\"sk-estimator sk-toggleable\"><input class=\"sk-toggleable__control sk-hidden--visually\" id=\"sk-estimator-id-1\" type=\"checkbox\" checked><label for=\"sk-estimator-id-1\" class=\"sk-toggleable__label sk-toggleable__label-arrow\">LogisticRegression</label><div class=\"sk-toggleable__content\"><pre>LogisticRegression()</pre></div></div></div></div></div>"
          },
          "metadata": {}
        }
      ]
    },
    {
      "cell_type": "code",
      "source": [
        "# accuracy on training data\n",
        "x_train_prediction = model.predict(x_train)\n",
        "training_data_accuracy = accuracy_score(x_train_prediction, y_train)"
      ],
      "metadata": {
        "execution": {
          "iopub.status.busy": "2024-08-31T05:17:10.691043Z",
          "iopub.execute_input": "2024-08-31T05:17:10.691444Z",
          "iopub.status.idle": "2024-08-31T05:17:10.707555Z",
          "shell.execute_reply.started": "2024-08-31T05:17:10.691407Z",
          "shell.execute_reply": "2024-08-31T05:17:10.705788Z"
        },
        "trusted": true,
        "id": "7yvBL_0f46WY"
      },
      "execution_count": null,
      "outputs": []
    },
    {
      "cell_type": "code",
      "source": [
        "print(f'Accuracy on Training data : , {training_data_accuracy}')\n"
      ],
      "metadata": {
        "execution": {
          "iopub.status.busy": "2024-08-31T05:17:14.296253Z",
          "iopub.execute_input": "2024-08-31T05:17:14.296664Z",
          "iopub.status.idle": "2024-08-31T05:17:14.30301Z",
          "shell.execute_reply.started": "2024-08-31T05:17:14.296627Z",
          "shell.execute_reply": "2024-08-31T05:17:14.301629Z"
        },
        "trusted": true,
        "id": "8WpZe1eo46WY",
        "outputId": "c2698a73-31f9-444e-f993-467b64f4ea9e"
      },
      "execution_count": null,
      "outputs": [
        {
          "name": "stdout",
          "text": "Accuracy on Training data : , 0.9301143583227446\n",
          "output_type": "stream"
        }
      ]
    },
    {
      "cell_type": "code",
      "source": [
        "# accuracy on test data\n",
        "x_test_prediction = model.predict(x_test)\n",
        "test_data_accuracy = accuracy_score(x_test_prediction, y_test)"
      ],
      "metadata": {
        "execution": {
          "iopub.status.busy": "2024-08-31T05:17:19.457071Z",
          "iopub.execute_input": "2024-08-31T05:17:19.457516Z",
          "iopub.status.idle": "2024-08-31T05:17:19.467109Z",
          "shell.execute_reply.started": "2024-08-31T05:17:19.457475Z",
          "shell.execute_reply": "2024-08-31T05:17:19.465576Z"
        },
        "trusted": true,
        "id": "9WK1PnbM46WZ"
      },
      "execution_count": null,
      "outputs": []
    },
    {
      "cell_type": "code",
      "source": [
        "print(f'Accuracy score on Test Data : , {test_data_accuracy}')"
      ],
      "metadata": {
        "execution": {
          "iopub.status.busy": "2024-08-31T05:17:23.668566Z",
          "iopub.execute_input": "2024-08-31T05:17:23.669021Z",
          "iopub.status.idle": "2024-08-31T05:17:23.675501Z",
          "shell.execute_reply.started": "2024-08-31T05:17:23.668974Z",
          "shell.execute_reply": "2024-08-31T05:17:23.674263Z"
        },
        "trusted": true,
        "id": "0N4DJcIb46Wa",
        "outputId": "55741f96-9c56-4f08-d474-a1140edf450e"
      },
      "execution_count": null,
      "outputs": [
        {
          "name": "stdout",
          "text": "Accuracy score on Test Data : , 0.9238578680203046\n",
          "output_type": "stream"
        }
      ]
    },
    {
      "cell_type": "code",
      "source": [
        "min_values = new_dt.describe().loc['min']\n",
        "max_values = new_dt.describe().loc['max']\n",
        "\n",
        "print(\"Minimum Values:\\n\", min_values)\n",
        "print(\"\\nMaximum Values:\\n\", max_values)"
      ],
      "metadata": {
        "execution": {
          "iopub.status.busy": "2024-08-31T05:17:36.520659Z",
          "iopub.execute_input": "2024-08-31T05:17:36.521133Z",
          "iopub.status.idle": "2024-08-31T05:17:36.637021Z",
          "shell.execute_reply.started": "2024-08-31T05:17:36.521088Z",
          "shell.execute_reply": "2024-08-31T05:17:36.63586Z"
        },
        "trusted": true,
        "id": "MzDUU9y946Wb",
        "outputId": "09d42424-546e-4075-fff3-71d8fe6987c8"
      },
      "execution_count": null,
      "outputs": [
        {
          "name": "stdout",
          "text": "Minimum Values:\n Time      315.000000\nV1        -30.552380\nV2        -17.637853\nV3        -31.103685\nV4         -4.054508\nV5        -22.105532\nV6         -6.406267\nV7        -43.557242\nV8        -41.044261\nV9        -13.434066\nV10       -24.588262\nV11        -2.831366\nV12       -18.683715\nV13        -3.127795\nV14       -19.214325\nV15        -4.498945\nV16       -14.129855\nV17       -25.162799\nV18        -9.498746\nV19        -3.681904\nV20        -7.605660\nV21       -22.797604\nV22        -8.887017\nV23       -19.254328\nV24        -2.727935\nV25        -4.781606\nV26        -1.155110\nV27        -7.263482\nV28        -2.287800\nAmount      0.000000\nClass       0.000000\nName: min, dtype: float64\n\nMaximum Values:\n Time      172459.000000\nV1             2.330924\nV2            22.057729\nV3             3.222936\nV4            12.114672\nV5            11.095089\nV6             6.474115\nV7            10.949696\nV8            20.007208\nV9             5.278721\nV10            6.609618\nV11           12.018913\nV12            3.338871\nV13            3.075620\nV14            4.002698\nV15            2.716064\nV16            3.139656\nV17            6.739384\nV18            3.790316\nV19            5.228342\nV20           11.059004\nV21           27.202839\nV22            8.361985\nV23            8.396046\nV24            1.091435\nV25            2.208209\nV26            2.745261\nV27            3.052358\nV28            5.958241\nAmount      3164.760000\nClass          1.000000\nName: max, dtype: float64\n",
          "output_type": "stream"
        }
      ]
    },
    {
      "cell_type": "code",
      "source": [
        "# Define the minimum and maximum values for each feature\n",
        "min_values = {\n",
        "    'Time': 266.000000, 'V1': -30.552380, 'V2': -14.505648, 'V3': -31.103685, 'V4': -4.399240,\n",
        "    'V5': -22.105532, 'V6': -10.136371, 'V7': -43.557242, 'V8': -41.044261, 'V9': -13.434066,\n",
        "    'V10': -24.588262, 'V11': -2.759528, 'V12': -18.683715, 'V13': -3.127795, 'V14': -19.214325,\n",
        "    'V15': -4.498945, 'V16': -14.129855, 'V17': -25.162799, 'V18': -9.498746, 'V19': -3.681904,\n",
        "    'V20': -7.642808, 'V21': -22.797604, 'V22': -8.887017, 'V23': -19.254328, 'V24': -2.100164,\n",
        "    'V25': -4.781606, 'V26': -1.443139, 'V27': -7.263482, 'V28': -8.307955, 'Amount': 0.000000\n",
        "}\n",
        "\n",
        "max_values = {\n",
        "    'Time': 172575.000000, 'V1': 2.353031, 'V2': 22.057729, 'V3': 3.358655, 'V4': 12.114672,\n",
        "    'V5': 13.367253, 'V6': 6.474115, 'V7': 5.802537, 'V8': 20.007208, 'V9': 4.619855,\n",
        "    'V10': 6.982557, 'V11': 12.018913, 'V12': 2.660866, 'V13': 3.494972, 'V14': 4.047301,\n",
        "    'V15': 2.471358, 'V16': 3.139656, 'V17': 6.739384, 'V18': 3.790316, 'V19': 5.228342,\n",
        "    'V20': 11.059004, 'V21': 27.202839, 'V22': 8.361985, 'V23': 5.466230, 'V24': 1.237015,\n",
        "    'V25': 2.208209, 'V26': 2.745261, 'V27': 4.610936, 'V28': 4.106596, 'Amount': 2290.050000\n",
        "}\n"
      ],
      "metadata": {
        "execution": {
          "iopub.status.busy": "2024-08-31T05:17:51.074053Z",
          "iopub.execute_input": "2024-08-31T05:17:51.074484Z",
          "iopub.status.idle": "2024-08-31T05:17:51.08489Z",
          "shell.execute_reply.started": "2024-08-31T05:17:51.074443Z",
          "shell.execute_reply": "2024-08-31T05:17:51.083349Z"
        },
        "trusted": true,
        "id": "f_zlICIx46Wb"
      },
      "execution_count": null,
      "outputs": []
    },
    {
      "cell_type": "code",
      "source": [
        "# Function to generate a random number between min and max values\n",
        "def generate_random_data(min_vals, max_vals):\n",
        "    data = {feature: ny.random.uniform(min_vals[feature], max_vals[feature]) for feature in min_vals}\n",
        "    return ps.DataFrame([data])"
      ],
      "metadata": {
        "execution": {
          "iopub.status.busy": "2024-08-31T05:22:18.004057Z",
          "iopub.execute_input": "2024-08-31T05:22:18.004548Z",
          "iopub.status.idle": "2024-08-31T05:22:18.011309Z",
          "shell.execute_reply.started": "2024-08-31T05:22:18.004502Z",
          "shell.execute_reply": "2024-08-31T05:22:18.009936Z"
        },
        "trusted": true,
        "id": "5cGYg1Tm46Wb"
      },
      "execution_count": null,
      "outputs": []
    },
    {
      "cell_type": "code",
      "source": [
        "new_data_dt = generate_random_data(min_values, max_values)"
      ],
      "metadata": {
        "execution": {
          "iopub.status.busy": "2024-08-31T05:22:24.41939Z",
          "iopub.execute_input": "2024-08-31T05:22:24.419928Z",
          "iopub.status.idle": "2024-08-31T05:22:24.427827Z",
          "shell.execute_reply.started": "2024-08-31T05:22:24.419877Z",
          "shell.execute_reply": "2024-08-31T05:22:24.426237Z"
        },
        "trusted": true,
        "id": "kISe5bfA46Wc"
      },
      "execution_count": null,
      "outputs": []
    },
    {
      "cell_type": "code",
      "source": [
        "prediction = model.predict(new_data_dt)\n",
        "\n",
        "# Print the prediction\n",
        "if prediction[0] == 1:\n",
        "    print(\"Fraud.\")\n",
        "else:\n",
        "    print(\"Not fraud.\")"
      ],
      "metadata": {
        "execution": {
          "iopub.status.busy": "2024-08-31T05:22:42.85064Z",
          "iopub.execute_input": "2024-08-31T05:22:42.851092Z",
          "iopub.status.idle": "2024-08-31T05:22:42.860089Z",
          "shell.execute_reply.started": "2024-08-31T05:22:42.851049Z",
          "shell.execute_reply": "2024-08-31T05:22:42.858824Z"
        },
        "trusted": true,
        "id": "vTkbaXCQ46Wc",
        "outputId": "681ade83-a329-471a-a944-653a658fd23e"
      },
      "execution_count": null,
      "outputs": [
        {
          "name": "stdout",
          "text": "The transaction is fraudulent.\n",
          "output_type": "stream"
        }
      ]
    },
    {
      "cell_type": "code",
      "source": [],
      "metadata": {
        "id": "znhrp_Lm46Wk"
      },
      "execution_count": null,
      "outputs": []
    },
    {
      "cell_type": "code",
      "source": [],
      "metadata": {
        "id": "ZhIYuXlR46Wk"
      },
      "execution_count": null,
      "outputs": []
    }
  ]
}